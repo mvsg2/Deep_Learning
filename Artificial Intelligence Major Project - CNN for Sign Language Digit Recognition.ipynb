{
 "cells": [
  {
   "cell_type": "markdown",
   "id": "cb13f12e",
   "metadata": {},
   "source": [
    "## The sign-language-digits dataset is taken from the following link:\n",
    "## https://www.kaggle.com/datasets/ardamavi/sign-language-digits-dataset"
   ]
  },
  {
   "cell_type": "code",
   "execution_count": 194,
   "id": "d2a621f0",
   "metadata": {},
   "outputs": [],
   "source": [
    "import tensorflow\n",
    "from tensorflow import keras\n",
    "import seaborn as sns\n",
    "import matplotlib.pyplot as plt\n",
    "from keras.layers import Conv2D, Dense, Dropout, Flatten, MaxPooling2D\n",
    "import numpy as np"
   ]
  },
  {
   "cell_type": "code",
   "execution_count": 3,
   "id": "e63a7224",
   "metadata": {},
   "outputs": [],
   "source": [
    "? np.load"
   ]
  },
  {
   "cell_type": "code",
   "execution_count": 17,
   "id": "dc2d9a5f",
   "metadata": {},
   "outputs": [],
   "source": [
    "X = np.load('E:\\Datasets\\X.npy')"
   ]
  },
  {
   "cell_type": "code",
   "execution_count": 18,
   "id": "44c3024e",
   "metadata": {
    "scrolled": true
   },
   "outputs": [
    {
     "data": {
      "text/plain": [
       "array([[[0.46666667, 0.4745098 , 0.47843137, ..., 0.5176471 ,\n",
       "         0.5137255 , 0.5019608 ],\n",
       "        [0.49803922, 0.4862745 , 0.4862745 , ..., 0.5254902 ,\n",
       "         0.5176471 , 0.50980395],\n",
       "        [0.54509807, 0.49411765, 0.49019608, ..., 0.5294118 ,\n",
       "         0.5254902 , 0.5137255 ],\n",
       "        ...,\n",
       "        [0.5019608 , 0.5137255 , 0.5176471 , ..., 0.5529412 ,\n",
       "         0.54509807, 0.53333336],\n",
       "        [0.49803922, 0.5058824 , 0.5137255 , ..., 0.54509807,\n",
       "         0.53333336, 0.52156866],\n",
       "        [0.49019608, 0.49803922, 0.5019608 , ..., 0.5294118 ,\n",
       "         0.52156866, 0.50980395]],\n",
       "\n",
       "       [[0.59607846, 0.60784316, 0.61960787, ..., 0.4627451 ,\n",
       "         0.4509804 , 0.44313726],\n",
       "        [0.60784316, 0.61960787, 0.6313726 , ..., 0.4745098 ,\n",
       "         0.4627451 , 0.4509804 ],\n",
       "        [0.6156863 , 0.627451  , 0.6431373 , ..., 0.4862745 ,\n",
       "         0.4745098 , 0.4627451 ],\n",
       "        ...,\n",
       "        [0.50980395, 0.5176471 , 0.5254902 , ..., 0.40392157,\n",
       "         0.39607844, 0.3882353 ],\n",
       "        [0.5019608 , 0.50980395, 0.5176471 , ..., 0.4       ,\n",
       "         0.39215687, 0.38431373],\n",
       "        [0.49411765, 0.5058824 , 0.50980395, ..., 0.3882353 ,\n",
       "         0.38039216, 0.37254903]],\n",
       "\n",
       "       [[0.5882353 , 0.6039216 , 0.61960787, ..., 0.53333336,\n",
       "         0.5137255 , 0.5019608 ],\n",
       "        [0.5921569 , 0.6117647 , 0.6156863 , ..., 0.5411765 ,\n",
       "         0.52156866, 0.50980395],\n",
       "        [0.5882353 , 0.61960787, 0.627451  , ..., 0.54901963,\n",
       "         0.5294118 , 0.5137255 ],\n",
       "        ...,\n",
       "        [0.4745098 , 0.4862745 , 0.49411765, ..., 0.42745098,\n",
       "         0.41960785, 0.40784314],\n",
       "        [0.47058824, 0.47843137, 0.4862745 , ..., 0.41568628,\n",
       "         0.4117647 , 0.4       ],\n",
       "        [0.45882353, 0.47058824, 0.47843137, ..., 0.40392157,\n",
       "         0.4       , 0.3882353 ]],\n",
       "\n",
       "       ...,\n",
       "\n",
       "       [[0.5254902 , 0.54509807, 0.5568628 , ..., 0.49803922,\n",
       "         0.49019608, 0.4862745 ],\n",
       "        [0.5372549 , 0.5529412 , 0.5686275 , ..., 0.5019608 ,\n",
       "         0.49803922, 0.49019608],\n",
       "        [0.54509807, 0.5568628 , 0.57254905, ..., 0.5058824 ,\n",
       "         0.49803922, 0.49019608],\n",
       "        ...,\n",
       "        [0.5058824 , 0.50980395, 0.5137255 , ..., 0.4862745 ,\n",
       "         0.47843137, 0.47058824],\n",
       "        [0.49411765, 0.5058824 , 0.50980395, ..., 0.47843137,\n",
       "         0.47058824, 0.4627451 ],\n",
       "        [0.48235294, 0.49411765, 0.5058824 , ..., 0.47058824,\n",
       "         0.4627451 , 0.45490196]],\n",
       "\n",
       "       [[0.5137255 , 0.5254902 , 0.5372549 , ..., 0.45490196,\n",
       "         0.44705883, 0.43529412],\n",
       "        [0.5176471 , 0.53333336, 0.54901963, ..., 0.46666667,\n",
       "         0.45882353, 0.44705883],\n",
       "        [0.5254902 , 0.5411765 , 0.56078434, ..., 0.4745098 ,\n",
       "         0.4627451 , 0.4509804 ],\n",
       "        ...,\n",
       "        [0.53333336, 0.5411765 , 0.5529412 , ..., 0.54509807,\n",
       "         0.5372549 , 0.5294118 ],\n",
       "        [0.52156866, 0.53333336, 0.54509807, ..., 0.5372549 ,\n",
       "         0.5294118 , 0.52156866],\n",
       "        [0.5137255 , 0.5254902 , 0.5372549 , ..., 0.5294118 ,\n",
       "         0.5254902 , 0.5137255 ]],\n",
       "\n",
       "       [[0.92941177, 0.9372549 , 0.9372549 , ..., 0.9647059 ,\n",
       "         0.972549  , 0.972549  ],\n",
       "        [0.92941177, 0.93333334, 0.93333334, ..., 0.95686275,\n",
       "         0.9607843 , 0.9647059 ],\n",
       "        [0.93333334, 0.93333334, 0.93333334, ..., 0.9490196 ,\n",
       "         0.9490196 , 0.9529412 ],\n",
       "        ...,\n",
       "        [0.76862746, 0.76862746, 0.77254903, ..., 0.73333335,\n",
       "         0.74509805, 0.68235296],\n",
       "        [0.7647059 , 0.7647059 , 0.76862746, ..., 0.7254902 ,\n",
       "         0.7372549 , 0.6784314 ],\n",
       "        [0.75686276, 0.75686276, 0.7607843 , ..., 0.72156864,\n",
       "         0.73333335, 0.67058825]]], dtype=float32)"
      ]
     },
     "execution_count": 18,
     "metadata": {},
     "output_type": "execute_result"
    }
   ],
   "source": [
    "X"
   ]
  },
  {
   "cell_type": "code",
   "execution_count": 19,
   "id": "3e53aae8",
   "metadata": {},
   "outputs": [],
   "source": [
    "Y = np.load('E:\\Datasets\\Y.npy')"
   ]
  },
  {
   "cell_type": "code",
   "execution_count": 20,
   "id": "a08d86e4",
   "metadata": {},
   "outputs": [
    {
     "data": {
      "text/plain": [
       "array([[1., 0., 0., ..., 0., 0., 0.],\n",
       "       [1., 0., 0., ..., 0., 0., 0.],\n",
       "       [1., 0., 0., ..., 0., 0., 0.],\n",
       "       ...,\n",
       "       [0., 0., 0., ..., 0., 0., 1.],\n",
       "       [0., 0., 0., ..., 0., 0., 1.],\n",
       "       [0., 0., 0., ..., 0., 0., 1.]])"
      ]
     },
     "execution_count": 20,
     "metadata": {},
     "output_type": "execute_result"
    }
   ],
   "source": [
    "Y"
   ]
  },
  {
   "cell_type": "code",
   "execution_count": 21,
   "id": "87435dae",
   "metadata": {},
   "outputs": [
    {
     "data": {
      "text/plain": [
       "(2062, 64, 64)"
      ]
     },
     "execution_count": 21,
     "metadata": {},
     "output_type": "execute_result"
    }
   ],
   "source": [
    "X.shape      # A stack of 2062 images each of size 64-by-64 - expressed as a 3 dimensional tensor."
   ]
  },
  {
   "cell_type": "code",
   "execution_count": 22,
   "id": "ad94cb01",
   "metadata": {},
   "outputs": [
    {
     "data": {
      "text/plain": [
       "(2062, 10)"
      ]
     },
     "execution_count": 22,
     "metadata": {},
     "output_type": "execute_result"
    }
   ],
   "source": [
    "Y.shape"
   ]
  },
  {
   "cell_type": "code",
   "execution_count": 12,
   "id": "8bcad07a",
   "metadata": {
    "scrolled": true
   },
   "outputs": [
    {
     "data": {
      "text/plain": [
       "<matplotlib.image.AxesImage at 0x2709a58a460>"
      ]
     },
     "execution_count": 12,
     "metadata": {},
     "output_type": "execute_result"
    },
    {
     "data": {
      "image/png": "[encoded data removed]",
      "text/plain": [
       "<Figure size 432x288 with 1 Axes>"
      ]
     },
     "metadata": {
      "needs_background": "light"
     },
     "output_type": "display_data"
    }
   ],
   "source": [
    "plt.imshow(X[260])"
   ]
  },
  {
   "cell_type": "code",
   "execution_count": 13,
   "id": "0b1ea4c5",
   "metadata": {},
   "outputs": [
    {
     "data": {
      "text/plain": [
       "<matplotlib.image.AxesImage at 0x2709ef63f40>"
      ]
     },
     "execution_count": 13,
     "metadata": {},
     "output_type": "execute_result"
    },
    {
     "data": {
      "image/png": "[encoded data removed]",
      "text/plain": [
       "<Figure size 432x288 with 1 Axes>"
      ]
     },
     "metadata": {
      "needs_background": "light"
     },
     "output_type": "display_data"
    }
   ],
   "source": [
    "plt.imshow(X[900])"
   ]
  },
  {
   "cell_type": "code",
   "execution_count": 14,
   "id": "fec00042",
   "metadata": {},
   "outputs": [
    {
     "data": {
      "text/plain": [
       "<matplotlib.image.AxesImage at 0x2709e67bfd0>"
      ]
     },
     "execution_count": 14,
     "metadata": {},
     "output_type": "execute_result"
    },
    {
     "data": {
      "image/png": "[encoded data removed]",
      "text/plain": [
       "<Figure size 432x288 with 1 Axes>"
      ]
     },
     "metadata": {
      "needs_background": "light"
     },
     "output_type": "display_data"
    }
   ],
   "source": [
    "plt.imshow(X[2000])"
   ]
  },
  {
   "cell_type": "code",
   "execution_count": 16,
   "id": "744d422d",
   "metadata": {},
   "outputs": [
    {
     "data": {
      "text/plain": [
       "<matplotlib.image.AxesImage at 0x2709e899a30>"
      ]
     },
     "execution_count": 16,
     "metadata": {},
     "output_type": "execute_result"
    },
    {
     "data": {
      "image/png": "[encoded data removed]",
      "text/plain": [
       "<Figure size 432x288 with 1 Axes>"
      ]
     },
     "metadata": {
      "needs_background": "light"
     },
     "output_type": "display_data"
    }
   ],
   "source": [
    "plt.imshow(X[2061])"
   ]
  },
  {
   "cell_type": "code",
   "execution_count": 23,
   "id": "6b005c21",
   "metadata": {},
   "outputs": [],
   "source": [
    "import sklearn\n",
    "from sklearn.model_selection import train_test_split"
   ]
  },
  {
   "cell_type": "code",
   "execution_count": 36,
   "id": "05b41bce",
   "metadata": {},
   "outputs": [],
   "source": [
    "? train_test_split"
   ]
  },
  {
   "cell_type": "code",
   "execution_count": 26,
   "id": "50317992",
   "metadata": {},
   "outputs": [
    {
     "data": {
      "text/plain": [
       "array([[0.46666667, 0.4745098 , 0.47843137, ..., 0.5176471 , 0.5137255 ,\n",
       "        0.5019608 ],\n",
       "       [0.49803922, 0.4862745 , 0.4862745 , ..., 0.5254902 , 0.5176471 ,\n",
       "        0.50980395],\n",
       "       [0.54509807, 0.49411765, 0.49019608, ..., 0.5294118 , 0.5254902 ,\n",
       "        0.5137255 ],\n",
       "       ...,\n",
       "       [0.5019608 , 0.5137255 , 0.5176471 , ..., 0.5529412 , 0.54509807,\n",
       "        0.53333336],\n",
       "       [0.49803922, 0.5058824 , 0.5137255 , ..., 0.54509807, 0.53333336,\n",
       "        0.52156866],\n",
       "       [0.49019608, 0.49803922, 0.5019608 , ..., 0.5294118 , 0.52156866,\n",
       "        0.50980395]], dtype=float32)"
      ]
     },
     "execution_count": 26,
     "metadata": {},
     "output_type": "execute_result"
    }
   ],
   "source": [
    "X[0]    # a 64-by-64 pixel grid"
   ]
  },
  {
   "cell_type": "code",
   "execution_count": 28,
   "id": "59d92911",
   "metadata": {},
   "outputs": [
    {
     "data": {
      "text/plain": [
       "<matplotlib.image.AxesImage at 0x270a301a130>"
      ]
     },
     "execution_count": 28,
     "metadata": {},
     "output_type": "execute_result"
    },
    {
     "data": {
      "image/png": "[encoded data removed]",
      "text/plain": [
       "<Figure size 432x288 with 1 Axes>"
      ]
     },
     "metadata": {
      "needs_background": "light"
     },
     "output_type": "display_data"
    }
   ],
   "source": [
    "plt.imshow(X[0])"
   ]
  },
  {
   "cell_type": "code",
   "execution_count": 29,
   "id": "bb93d0b3",
   "metadata": {},
   "outputs": [
    {
     "data": {
      "text/plain": [
       "array([1., 0., 0., 0., 0., 0., 0., 0., 0., 0.])"
      ]
     },
     "execution_count": 29,
     "metadata": {},
     "output_type": "execute_result"
    }
   ],
   "source": [
    "Y[0]"
   ]
  },
  {
   "cell_type": "code",
   "execution_count": 33,
   "id": "469d9146",
   "metadata": {},
   "outputs": [],
   "source": [
    "? plt.imshow    # in Grayscale"
   ]
  },
  {
   "cell_type": "code",
   "execution_count": 34,
   "id": "d54c7de4",
   "metadata": {},
   "outputs": [
    {
     "data": {
      "text/plain": [
       "<matplotlib.image.AxesImage at 0x270a6a3fbb0>"
      ]
     },
     "execution_count": 34,
     "metadata": {},
     "output_type": "execute_result"
    },
    {
     "data": {
      "image/png": "[encoded data removed]",
      "text/plain": [
       "<Figure size 432x288 with 1 Axes>"
      ]
     },
     "metadata": {
      "needs_background": "light"
     },
     "output_type": "display_data"
    }
   ],
   "source": [
    "plt.imshow(X[0], 'gray')"
   ]
  },
  {
   "cell_type": "code",
   "execution_count": 35,
   "id": "8e43f88e",
   "metadata": {},
   "outputs": [
    {
     "data": {
      "text/plain": [
       "412.4"
      ]
     },
     "execution_count": 35,
     "metadata": {},
     "output_type": "execute_result"
    }
   ],
   "source": [
    "# I am using one-fifth of the dataset for validation i.e 2062/5=413 for testing the trained neural network"
   ]
  },
  {
   "cell_type": "code",
   "execution_count": 84,
   "id": "bdc64a57",
   "metadata": {},
   "outputs": [],
   "source": [
    "X_train, X_test, y_train, y_test = train_test_split(X, Y, test_size=0.20, random_state=42)"
   ]
  },
  {
   "cell_type": "code",
   "execution_count": 85,
   "id": "9ac57750",
   "metadata": {
    "scrolled": true
   },
   "outputs": [
    {
     "data": {
      "text/plain": [
       "array([[[0.56078434, 0.5647059 , 0.5647059 , ..., 0.5411765 ,\n",
       "         0.54901963, 0.54509807],\n",
       "        [0.56078434, 0.57254905, 0.5764706 , ..., 0.56078434,\n",
       "         0.56078434, 0.5529412 ],\n",
       "        [0.5647059 , 0.5764706 , 0.5803922 , ..., 0.57254905,\n",
       "         0.5686275 , 0.5568628 ],\n",
       "        ...,\n",
       "        [0.5137255 , 0.5176471 , 0.5176471 , ..., 0.49411765,\n",
       "         0.49411765, 0.4862745 ],\n",
       "        [0.50980395, 0.50980395, 0.50980395, ..., 0.49411765,\n",
       "         0.49019608, 0.47843137],\n",
       "        [0.5019608 , 0.5019608 , 0.5058824 , ..., 0.4862745 ,\n",
       "         0.48235294, 0.47058824]],\n",
       "\n",
       "       [[0.49411765, 0.5058824 , 0.52156866, ..., 0.46666667,\n",
       "         0.4509804 , 0.4392157 ],\n",
       "        [0.50980395, 0.5176471 , 0.5372549 , ..., 0.47843137,\n",
       "         0.45882353, 0.44705883],\n",
       "        [0.52156866, 0.5411765 , 0.56078434, ..., 0.48235294,\n",
       "         0.46666667, 0.4509804 ],\n",
       "        ...,\n",
       "        [0.4862745 , 0.5019608 , 0.5058824 , ..., 0.46666667,\n",
       "         0.4509804 , 0.4392157 ],\n",
       "        [0.48235294, 0.49411765, 0.49803922, ..., 0.45490196,\n",
       "         0.44705883, 0.43529412],\n",
       "        [0.47843137, 0.4862745 , 0.49411765, ..., 0.44313726,\n",
       "         0.43529412, 0.42352942]],\n",
       "\n",
       "       [[0.47843137, 0.49803922, 0.5058824 , ..., 0.5137255 ,\n",
       "         0.5019608 , 0.49411765],\n",
       "        [0.49019608, 0.5058824 , 0.5137255 , ..., 0.5254902 ,\n",
       "         0.5137255 , 0.5019608 ],\n",
       "        [0.49411765, 0.50980395, 0.52156866, ..., 0.5294118 ,\n",
       "         0.5176471 , 0.5058824 ],\n",
       "        ...,\n",
       "        [0.44705883, 0.45882353, 0.46666667, ..., 0.49411765,\n",
       "         0.48235294, 0.4745098 ],\n",
       "        [0.44705883, 0.45882353, 0.46666667, ..., 0.4862745 ,\n",
       "         0.4745098 , 0.46666667],\n",
       "        [0.4392157 , 0.4509804 , 0.45882353, ..., 0.4745098 ,\n",
       "         0.46666667, 0.45882353]],\n",
       "\n",
       "       ...,\n",
       "\n",
       "       [[0.5294118 , 0.5411765 , 0.54901963, ..., 0.5137255 ,\n",
       "         0.5058824 , 0.49411765],\n",
       "        [0.5372549 , 0.5529412 , 0.56078434, ..., 0.5254902 ,\n",
       "         0.5176471 , 0.5058824 ],\n",
       "        [0.54901963, 0.5647059 , 0.5764706 , ..., 0.53333336,\n",
       "         0.5254902 , 0.5137255 ],\n",
       "        ...,\n",
       "        [0.49019608, 0.5019608 , 0.5058824 , ..., 0.4627451 ,\n",
       "         0.45882353, 0.44705883],\n",
       "        [0.4862745 , 0.49411765, 0.5019608 , ..., 0.4509804 ,\n",
       "         0.44313726, 0.43529412],\n",
       "        [0.4745098 , 0.4862745 , 0.49019608, ..., 0.44313726,\n",
       "         0.43137255, 0.42352942]],\n",
       "\n",
       "       [[0.5137255 , 0.52156866, 0.53333336, ..., 0.49803922,\n",
       "         0.49019608, 0.47843137],\n",
       "        [0.52156866, 0.5294118 , 0.54509807, ..., 0.50980395,\n",
       "         0.49411765, 0.48235294],\n",
       "        [0.5294118 , 0.5411765 , 0.5568628 , ..., 0.5137255 ,\n",
       "         0.49803922, 0.4862745 ],\n",
       "        ...,\n",
       "        [0.4745098 , 0.4862745 , 0.49411765, ..., 0.4862745 ,\n",
       "         0.4745098 , 0.4627451 ],\n",
       "        [0.46666667, 0.47843137, 0.48235294, ..., 0.47843137,\n",
       "         0.47058824, 0.4627451 ],\n",
       "        [0.4627451 , 0.4745098 , 0.4745098 , ..., 0.46666667,\n",
       "         0.4627451 , 0.45490196]],\n",
       "\n",
       "       [[0.5372549 , 0.5411765 , 0.56078434, ..., 0.5019608 ,\n",
       "         0.49019608, 0.47843137],\n",
       "        [0.54509807, 0.5568628 , 0.5686275 , ..., 0.50980395,\n",
       "         0.49411765, 0.48235294],\n",
       "        [0.5529412 , 0.57254905, 0.5882353 , ..., 0.5137255 ,\n",
       "         0.5019608 , 0.4862745 ],\n",
       "        ...,\n",
       "        [0.52156866, 0.53333336, 0.54509807, ..., 0.43529412,\n",
       "         0.42745098, 0.41568628],\n",
       "        [0.5254902 , 0.53333336, 0.5411765 , ..., 0.43137255,\n",
       "         0.41960785, 0.40784314],\n",
       "        [0.52156866, 0.52156866, 0.5254902 , ..., 0.41960785,\n",
       "         0.4117647 , 0.4       ]]], dtype=float32)"
      ]
     },
     "execution_count": 85,
     "metadata": {},
     "output_type": "execute_result"
    }
   ],
   "source": [
    "X_train"
   ]
  },
  {
   "cell_type": "code",
   "execution_count": 86,
   "id": "0ddf938c",
   "metadata": {},
   "outputs": [
    {
     "data": {
      "text/plain": [
       "(1649, 64, 64)"
      ]
     },
     "execution_count": 86,
     "metadata": {},
     "output_type": "execute_result"
    }
   ],
   "source": [
    "X_train.shape"
   ]
  },
  {
   "cell_type": "code",
   "execution_count": 87,
   "id": "c5490d49",
   "metadata": {},
   "outputs": [
    {
     "data": {
      "text/plain": [
       "array([[0.56078434, 0.5647059 , 0.5647059 , ..., 0.5411765 , 0.54901963,\n",
       "        0.54509807],\n",
       "       [0.56078434, 0.57254905, 0.5764706 , ..., 0.56078434, 0.56078434,\n",
       "        0.5529412 ],\n",
       "       [0.5647059 , 0.5764706 , 0.5803922 , ..., 0.57254905, 0.5686275 ,\n",
       "        0.5568628 ],\n",
       "       ...,\n",
       "       [0.5137255 , 0.5176471 , 0.5176471 , ..., 0.49411765, 0.49411765,\n",
       "        0.4862745 ],\n",
       "       [0.50980395, 0.50980395, 0.50980395, ..., 0.49411765, 0.49019608,\n",
       "        0.47843137],\n",
       "       [0.5019608 , 0.5019608 , 0.5058824 , ..., 0.4862745 , 0.48235294,\n",
       "        0.47058824]], dtype=float32)"
      ]
     },
     "execution_count": 87,
     "metadata": {},
     "output_type": "execute_result"
    }
   ],
   "source": [
    "X_train[0]"
   ]
  },
  {
   "cell_type": "code",
   "execution_count": 88,
   "id": "370dc72c",
   "metadata": {},
   "outputs": [
    {
     "data": {
      "text/plain": [
       "(413, 64, 64)"
      ]
     },
     "execution_count": 88,
     "metadata": {},
     "output_type": "execute_result"
    }
   ],
   "source": [
    "X_test.shape"
   ]
  },
  {
   "cell_type": "code",
   "execution_count": 89,
   "id": "b1022303",
   "metadata": {
    "scrolled": true
   },
   "outputs": [
    {
     "data": {
      "text/plain": [
       "array([[[0.78039217, 0.7921569 , 0.80784315, ..., 0.8509804 ,\n",
       "         0.84313726, 0.83137256],\n",
       "        [0.78431374, 0.80784315, 0.8156863 , ..., 0.85490197,\n",
       "         0.84705883, 0.8392157 ],\n",
       "        [0.79607844, 0.8117647 , 0.8156863 , ..., 0.85490197,\n",
       "         0.84705883, 0.8392157 ],\n",
       "        ...,\n",
       "        [0.6431373 , 0.64705884, 0.654902  , ..., 0.69411767,\n",
       "         0.6901961 , 0.68235296],\n",
       "        [0.63529414, 0.6392157 , 0.64705884, ..., 0.6862745 ,\n",
       "         0.68235296, 0.6745098 ],\n",
       "        [0.62352943, 0.627451  , 0.63529414, ..., 0.6745098 ,\n",
       "         0.67058825, 0.6627451 ]],\n",
       "\n",
       "       [[0.5529412 , 0.5647059 , 0.57254905, ..., 0.49411765,\n",
       "         0.47843137, 0.46666667],\n",
       "        [0.5647059 , 0.5764706 , 0.58431375, ..., 0.5137255 ,\n",
       "         0.49803922, 0.4862745 ],\n",
       "        [0.5764706 , 0.5882353 , 0.6       , ..., 0.5176471 ,\n",
       "         0.5137255 , 0.5019608 ],\n",
       "        ...,\n",
       "        [0.52156866, 0.52156866, 0.52156866, ..., 0.48235294,\n",
       "         0.4745098 , 0.46666667],\n",
       "        [0.5176471 , 0.5254902 , 0.5254902 , ..., 0.4745098 ,\n",
       "         0.47058824, 0.45882353],\n",
       "        [0.5137255 , 0.5176471 , 0.5254902 , ..., 0.4627451 ,\n",
       "         0.45882353, 0.45490196]],\n",
       "\n",
       "       [[0.6       , 0.6156863 , 0.627451  , ..., 0.53333336,\n",
       "         0.5294118 , 0.52156866],\n",
       "        [0.6117647 , 0.627451  , 0.6392157 , ..., 0.54509807,\n",
       "         0.5411765 , 0.5294118 ],\n",
       "        [0.61960787, 0.63529414, 0.6431373 , ..., 0.5529412 ,\n",
       "         0.54509807, 0.53333336],\n",
       "        ...,\n",
       "        [0.5372549 , 0.54509807, 0.54901963, ..., 0.47058824,\n",
       "         0.45490196, 0.44313726],\n",
       "        [0.53333336, 0.5411765 , 0.54509807, ..., 0.4627451 ,\n",
       "         0.4509804 , 0.4392157 ],\n",
       "        [0.5254902 , 0.5294118 , 0.53333336, ..., 0.45490196,\n",
       "         0.44313726, 0.43137255]],\n",
       "\n",
       "       ...,\n",
       "\n",
       "       [[0.5294118 , 0.5411765 , 0.5568628 , ..., 0.47058824,\n",
       "         0.46666667, 0.45882353],\n",
       "        [0.53333336, 0.54509807, 0.56078434, ..., 0.48235294,\n",
       "         0.4745098 , 0.4627451 ],\n",
       "        [0.5372549 , 0.5529412 , 0.5686275 , ..., 0.49411765,\n",
       "         0.48235294, 0.47058824],\n",
       "        ...,\n",
       "        [0.5254902 , 0.54509807, 0.56078434, ..., 0.4745098 ,\n",
       "         0.46666667, 0.45490196],\n",
       "        [0.5372549 , 0.54901963, 0.56078434, ..., 0.4627451 ,\n",
       "         0.45490196, 0.44313726],\n",
       "        [0.54509807, 0.5568628 , 0.5647059 , ..., 0.45490196,\n",
       "         0.44313726, 0.43529412]],\n",
       "\n",
       "       [[0.4509804 , 0.4627451 , 0.47058824, ..., 0.4392157 ,\n",
       "         0.43529412, 0.43137255],\n",
       "        [0.45882353, 0.47058824, 0.47843137, ..., 0.4509804 ,\n",
       "         0.44313726, 0.43529412],\n",
       "        [0.4627451 , 0.4745098 , 0.49019608, ..., 0.45882353,\n",
       "         0.44705883, 0.43529412],\n",
       "        ...,\n",
       "        [0.43137255, 0.4392157 , 0.44705883, ..., 0.40784314,\n",
       "         0.40392157, 0.39215687],\n",
       "        [0.41960785, 0.43137255, 0.4392157 , ..., 0.4       ,\n",
       "         0.39215687, 0.38039216],\n",
       "        [0.40784314, 0.41960785, 0.43137255, ..., 0.3882353 ,\n",
       "         0.38431373, 0.3764706 ]],\n",
       "\n",
       "       [[0.48235294, 0.5019608 , 0.50980395, ..., 0.45882353,\n",
       "         0.4509804 , 0.4392157 ],\n",
       "        [0.49411765, 0.5137255 , 0.52156866, ..., 0.4627451 ,\n",
       "         0.45490196, 0.44705883],\n",
       "        [0.5019608 , 0.5254902 , 0.53333336, ..., 0.46666667,\n",
       "         0.45882353, 0.44705883],\n",
       "        ...,\n",
       "        [0.5019608 , 0.5058824 , 0.50980395, ..., 0.48235294,\n",
       "         0.46666667, 0.45490196],\n",
       "        [0.49411765, 0.49803922, 0.5019608 , ..., 0.46666667,\n",
       "         0.4509804 , 0.4392157 ],\n",
       "        [0.47843137, 0.4862745 , 0.49019608, ..., 0.4509804 ,\n",
       "         0.4392157 , 0.42745098]]], dtype=float32)"
      ]
     },
     "execution_count": 89,
     "metadata": {},
     "output_type": "execute_result"
    }
   ],
   "source": [
    "X_test"
   ]
  },
  {
   "cell_type": "code",
   "execution_count": 90,
   "id": "6de6f17d",
   "metadata": {},
   "outputs": [
    {
     "data": {
      "text/plain": [
       "array([[0., 0., 0., ..., 0., 0., 0.],\n",
       "       [0., 0., 0., ..., 0., 0., 1.],\n",
       "       [0., 0., 0., ..., 0., 0., 0.],\n",
       "       ...,\n",
       "       [0., 0., 0., ..., 0., 0., 0.],\n",
       "       [0., 0., 0., ..., 0., 0., 0.],\n",
       "       [0., 0., 0., ..., 0., 0., 0.]])"
      ]
     },
     "execution_count": 90,
     "metadata": {},
     "output_type": "execute_result"
    }
   ],
   "source": [
    "y_train"
   ]
  },
  {
   "cell_type": "code",
   "execution_count": 91,
   "id": "d7128de5",
   "metadata": {},
   "outputs": [
    {
     "data": {
      "text/plain": [
       "(1649, 10)"
      ]
     },
     "execution_count": 91,
     "metadata": {},
     "output_type": "execute_result"
    }
   ],
   "source": [
    "y_train.shape"
   ]
  },
  {
   "cell_type": "code",
   "execution_count": 92,
   "id": "6bdd0c11",
   "metadata": {},
   "outputs": [
    {
     "data": {
      "text/plain": [
       "array([[0., 0., 0., ..., 0., 0., 0.],\n",
       "       [0., 0., 0., ..., 0., 0., 1.],\n",
       "       [0., 0., 0., ..., 0., 0., 0.],\n",
       "       ...,\n",
       "       [0., 1., 0., ..., 0., 0., 0.],\n",
       "       [0., 0., 0., ..., 0., 0., 0.],\n",
       "       [0., 1., 0., ..., 0., 0., 0.]])"
      ]
     },
     "execution_count": 92,
     "metadata": {},
     "output_type": "execute_result"
    }
   ],
   "source": [
    "y_test"
   ]
  },
  {
   "cell_type": "code",
   "execution_count": 93,
   "id": "c09dca7f",
   "metadata": {},
   "outputs": [
    {
     "data": {
      "text/plain": [
       "(413, 10)"
      ]
     },
     "execution_count": 93,
     "metadata": {},
     "output_type": "execute_result"
    }
   ],
   "source": [
    "y_test.shape"
   ]
  },
  {
   "cell_type": "code",
   "execution_count": 94,
   "id": "9d966161",
   "metadata": {},
   "outputs": [
    {
     "data": {
      "text/plain": [
       "1.0"
      ]
     },
     "execution_count": 94,
     "metadata": {},
     "output_type": "execute_result"
    }
   ],
   "source": [
    "X_train.max()"
   ]
  },
  {
   "cell_type": "code",
   "execution_count": 95,
   "id": "a1737513",
   "metadata": {},
   "outputs": [
    {
     "data": {
      "text/plain": [
       "1.0"
      ]
     },
     "execution_count": 95,
     "metadata": {},
     "output_type": "execute_result"
    }
   ],
   "source": [
    "X_test.max()"
   ]
  },
  {
   "cell_type": "code",
   "execution_count": 96,
   "id": "efc07a18",
   "metadata": {},
   "outputs": [
    {
     "data": {
      "text/plain": [
       "0.003921569"
      ]
     },
     "execution_count": 96,
     "metadata": {},
     "output_type": "execute_result"
    }
   ],
   "source": [
    "X_train.min()"
   ]
  },
  {
   "cell_type": "code",
   "execution_count": 97,
   "id": "2fb3e7e9",
   "metadata": {},
   "outputs": [
    {
     "data": {
      "text/plain": [
       "0.02745098"
      ]
     },
     "execution_count": 97,
     "metadata": {},
     "output_type": "execute_result"
    }
   ],
   "source": [
    "X_test.min()"
   ]
  },
  {
   "cell_type": "code",
   "execution_count": 98,
   "id": "b94b00f8",
   "metadata": {},
   "outputs": [
    {
     "data": {
      "text/plain": [
       "<matplotlib.image.AxesImage at 0x270acef0940>"
      ]
     },
     "execution_count": 98,
     "metadata": {},
     "output_type": "execute_result"
    },
    {
     "data": {
      "image/png": "[encoded data removed]",
      "text/plain": [
       "<Figure size 432x288 with 1 Axes>"
      ]
     },
     "metadata": {
      "needs_background": "light"
     },
     "output_type": "display_data"
    }
   ],
   "source": [
    "plt.imshow(X_train[0])"
   ]
  },
  {
   "cell_type": "code",
   "execution_count": 99,
   "id": "0d6d504c",
   "metadata": {},
   "outputs": [
    {
     "data": {
      "text/plain": [
       "array([0., 0., 0., 0., 0., 1., 0., 0., 0., 0.])"
      ]
     },
     "execution_count": 99,
     "metadata": {},
     "output_type": "execute_result"
    }
   ],
   "source": [
    "y_train[0]"
   ]
  },
  {
   "cell_type": "code",
   "execution_count": 100,
   "id": "4044824c",
   "metadata": {},
   "outputs": [
    {
     "data": {
      "text/plain": [
       "<matplotlib.image.AxesImage at 0x270acf600d0>"
      ]
     },
     "execution_count": 100,
     "metadata": {},
     "output_type": "execute_result"
    },
    {
     "data": {
      "image/png": "[encoded data removed]",
      "text/plain": [
       "<Figure size 432x288 with 1 Axes>"
      ]
     },
     "metadata": {
      "needs_background": "light"
     },
     "output_type": "display_data"
    }
   ],
   "source": [
    "plt.imshow(X_train[1])"
   ]
  },
  {
   "cell_type": "code",
   "execution_count": 81,
   "id": "f396c441",
   "metadata": {},
   "outputs": [
    {
     "data": {
      "text/plain": [
       "array([0., 0., 0., 0., 0., 1., 0., 0., 0., 0.])"
      ]
     },
     "execution_count": 81,
     "metadata": {},
     "output_type": "execute_result"
    }
   ],
   "source": [
    "y_train[1]"
   ]
  },
  {
   "cell_type": "code",
   "execution_count": 82,
   "id": "a2e8e0d1",
   "metadata": {},
   "outputs": [
    {
     "data": {
      "text/plain": [
       "<matplotlib.image.AxesImage at 0x270aae368b0>"
      ]
     },
     "execution_count": 82,
     "metadata": {},
     "output_type": "execute_result"
    },
    {
     "data": {
      "image/png": "[encoded data removed]",
      "text/plain": [
       "<Figure size 432x288 with 1 Axes>"
      ]
     },
     "metadata": {
      "needs_background": "light"
     },
     "output_type": "display_data"
    }
   ],
   "source": [
    "plt.imshow(X_train[100])"
   ]
  },
  {
   "cell_type": "code",
   "execution_count": 83,
   "id": "2131ef33",
   "metadata": {},
   "outputs": [
    {
     "data": {
      "text/plain": [
       "array([0., 0., 0., 0., 1., 0., 0., 0., 0., 0.])"
      ]
     },
     "execution_count": 83,
     "metadata": {},
     "output_type": "execute_result"
    }
   ],
   "source": [
    "y_train[100]"
   ]
  },
  {
   "cell_type": "code",
   "execution_count": 57,
   "id": "4ac061b6",
   "metadata": {},
   "outputs": [
    {
     "data": {
      "text/plain": [
       "(1649, 10)"
      ]
     },
     "execution_count": 57,
     "metadata": {},
     "output_type": "execute_result"
    }
   ],
   "source": [
    "y_train.shape"
   ]
  },
  {
   "cell_type": "code",
   "execution_count": 58,
   "id": "5e120281",
   "metadata": {},
   "outputs": [
    {
     "name": "stdout",
     "output_type": "stream",
     "text": [
      "(1649, 64, 64)\n",
      "(1649, 10)\n",
      "(413, 64, 64)\n",
      "(413, 10)\n"
     ]
    }
   ],
   "source": [
    "print(X_train.shape)\n",
    "print(y_train.shape)\n",
    "\n",
    "print(X_test.shape)\n",
    "print(y_test.shape)"
   ]
  },
  {
   "cell_type": "code",
   "execution_count": 59,
   "id": "91ed7f8c",
   "metadata": {},
   "outputs": [
    {
     "data": {
      "text/plain": [
       "array([[0., 0., 0., ..., 0., 0., 0.],\n",
       "       [0., 0., 0., ..., 0., 0., 1.],\n",
       "       [0., 0., 0., ..., 0., 0., 0.],\n",
       "       ...,\n",
       "       [0., 0., 0., ..., 0., 0., 0.],\n",
       "       [0., 0., 0., ..., 0., 0., 0.],\n",
       "       [0., 0., 0., ..., 0., 0., 0.]])"
      ]
     },
     "execution_count": 59,
     "metadata": {},
     "output_type": "execute_result"
    }
   ],
   "source": [
    "y_train"
   ]
  },
  {
   "cell_type": "code",
   "execution_count": 62,
   "id": "8804a57f",
   "metadata": {},
   "outputs": [
    {
     "data": {
      "text/plain": [
       "<matplotlib.image.AxesImage at 0x270a8c4d520>"
      ]
     },
     "execution_count": 62,
     "metadata": {},
     "output_type": "execute_result"
    },
    {
     "data": {
      "image/png": "[encoded data removed]",
      "text/plain": [
       "<Figure size 432x288 with 1 Axes>"
      ]
     },
     "metadata": {
      "needs_background": "light"
     },
     "output_type": "display_data"
    }
   ],
   "source": [
    "plt.imshow(X_train[2])"
   ]
  },
  {
   "cell_type": "code",
   "execution_count": 63,
   "id": "06b2d385",
   "metadata": {},
   "outputs": [
    {
     "data": {
      "text/plain": [
       "<matplotlib.image.AxesImage at 0x270a8cb1670>"
      ]
     },
     "execution_count": 63,
     "metadata": {},
     "output_type": "execute_result"
    },
    {
     "data": {
      "image/png": "[encoded data removed]",
      "text/plain": [
       "<Figure size 432x288 with 1 Axes>"
      ]
     },
     "metadata": {
      "needs_background": "light"
     },
     "output_type": "display_data"
    }
   ],
   "source": [
    "plt.imshow(X_train[3])"
   ]
  },
  {
   "cell_type": "markdown",
   "id": "9abe2ae9",
   "metadata": {},
   "source": [
    "#### Splitting the Training and Test data"
   ]
  },
  {
   "cell_type": "code",
   "execution_count": 101,
   "id": "ecb5f336",
   "metadata": {},
   "outputs": [],
   "source": [
    "? train_test_split"
   ]
  },
  {
   "cell_type": "code",
   "execution_count": 107,
   "id": "08111434",
   "metadata": {},
   "outputs": [],
   "source": [
    "X_train_reshaped = X_train.reshape(-1, 64, 64, 1)\n",
    "X_test_reshaped = X_test.reshape(-1, 64, 64, 1)"
   ]
  },
  {
   "cell_type": "code",
   "execution_count": 109,
   "id": "92a522b5",
   "metadata": {},
   "outputs": [
    {
     "data": {
      "text/plain": [
       "(413, 64, 64, 1)"
      ]
     },
     "execution_count": 109,
     "metadata": {},
     "output_type": "execute_result"
    }
   ],
   "source": [
    "X_test_reshaped.shape"
   ]
  },
  {
   "cell_type": "code",
   "execution_count": 122,
   "id": "ec9fcc1a",
   "metadata": {},
   "outputs": [],
   "source": [
    "from keras.models import Sequential\n",
    "from keras.preprocessing.image import ImageDataGenerator\n",
    "from keras.optimizers import SGD, Adam\n",
    "from keras.layers import BatchNormalization"
   ]
  },
  {
   "cell_type": "markdown",
   "id": "c20406d3",
   "metadata": {},
   "source": [
    "#### Building the layers of the neural network..."
   ]
  },
  {
   "cell_type": "code",
   "execution_count": 123,
   "id": "9f638a05",
   "metadata": {},
   "outputs": [],
   "source": [
    "model = Sequential()\n",
    "model.add(Conv2D(filters = 64, kernel_size=(3,3), activation='relu', input_shape = (64, 64, 1)))\n",
    "model.add(MaxPooling2D(pool_size = (2,2)))\n",
    "model.add(BatchNormalization())\n",
    "\n",
    "model.add(Conv2D(filters= 32, kernel_size=(3,3), activation='relu'))\n",
    "model.add(MaxPooling2D(pool_size=(2,2)))\n",
    "model.add(BatchNormalization())\n",
    "\n",
    "model.add(Conv2D(filters=16, kernel_size=(3,3), activation='relu'))\n",
    "model.add(MaxPooling2D(pool_size=(2,2)))\n",
    "model.add(BatchNormalization())\n",
    "\n",
    "model.add(Flatten())\n",
    "\n",
    "model.add(Dense(512, activation='relu'))\n",
    "model.add(Dropout(0.22))\n",
    "model.add(Dense(1024, activation='relu'))\n",
    "model.add(Dropout(0.4))\n",
    "\n",
    "model.add(Dense(10, activation='softmax'))"
   ]
  },
  {
   "cell_type": "code",
   "execution_count": 150,
   "id": "8d38ff83",
   "metadata": {},
   "outputs": [],
   "source": [
    "# model.compile(optimizer=SGD(learning_rate=0.1), loss=\"categorical_crossentropy\", metrics=['accuracy'])\n",
    "model.compile(optimizer=Adam(learning_rate=0.001, beta_1=0.9, beta_2=0.999), loss=\"categorical_crossentropy\", metrics=['accuracy'])"
   ]
  },
  {
   "cell_type": "code",
   "execution_count": 118,
   "id": "54fd4853",
   "metadata": {},
   "outputs": [],
   "source": [
    "? ImageDataGenerator"
   ]
  },
  {
   "cell_type": "code",
   "execution_count": 151,
   "id": "e05fb8a3",
   "metadata": {},
   "outputs": [],
   "source": [
    "train_gen = ImageDataGenerator(featurewise_center = False,                      # set input mean to 0 over the dataset\n",
    "        samplewise_center = False,                                              # set each sample mean to 0\n",
    "        featurewise_std_normalization = False,                                  # divide inputs by std of the dataset\n",
    "        samplewise_std_normalization = False,                                   # divide each input by its std\n",
    "        zca_whitening = False,                                                  # reducing the dimensions\n",
    "        rotation_range = 10,                                                    # randomly rotate images in the range 10 degrees\n",
    "        zoom_range = 0.1,                                                       # Randomly zoom image 1%\n",
    "        width_shift_range = 0.1,                                                # randomly shift images horizontally 1%\n",
    "        height_shift_range = 0.1,                                               # randomly shift images vertically 1%\n",
    "        horizontal_flip = True,                                                 # randomly flip images\n",
    "        vertical_flip = True)                                                   # randomly flip images"
   ]
  },
  {
   "cell_type": "code",
   "execution_count": 152,
   "id": "0e7f334d",
   "metadata": {},
   "outputs": [],
   "source": [
    "train_gen.fit(X_train_reshaped)"
   ]
  },
  {
   "cell_type": "code",
   "execution_count": 153,
   "id": "7562c019",
   "metadata": {},
   "outputs": [
    {
     "name": "stdout",
     "output_type": "stream",
     "text": [
      "Epoch 1/20\n"
     ]
    },
    {
     "name": "stderr",
     "output_type": "stream",
     "text": [
      "C:\\Users\\Sai Ganesh\\AppData\\Local\\Temp\\ipykernel_16952\\1503049174.py:1: UserWarning: `Model.fit_generator` is deprecated and will be removed in a future version. Please use `Model.fit`, which supports generators.\n",
      "  History = model.fit_generator(train_gen.flow(X_train_reshaped, y_train, batch_size=32),\n"
     ]
    },
    {
     "name": "stdout",
     "output_type": "stream",
     "text": [
      "52/52 [==============================] - 10s 168ms/step - loss: 0.2977 - accuracy: 0.8993 - val_loss: 0.0877 - val_accuracy: 0.9709\n",
      "Epoch 2/20\n",
      "52/52 [==============================] - 9s 170ms/step - loss: 0.3380 - accuracy: 0.8939 - val_loss: 0.1058 - val_accuracy: 0.9588\n",
      "Epoch 3/20\n",
      "52/52 [==============================] - 10s 186ms/step - loss: 0.2879 - accuracy: 0.9048 - val_loss: 0.1333 - val_accuracy: 0.9564\n",
      "Epoch 4/20\n",
      "52/52 [==============================] - 9s 176ms/step - loss: 0.3079 - accuracy: 0.9018 - val_loss: 0.2638 - val_accuracy: 0.9322\n",
      "Epoch 5/20\n",
      "52/52 [==============================] - 9s 169ms/step - loss: 0.2618 - accuracy: 0.9121 - val_loss: 0.0615 - val_accuracy: 0.9758\n",
      "Epoch 6/20\n",
      "52/52 [==============================] - 9s 169ms/step - loss: 0.3129 - accuracy: 0.8975 - val_loss: 0.1877 - val_accuracy: 0.9370\n",
      "Epoch 7/20\n",
      "52/52 [==============================] - 10s 185ms/step - loss: 0.2787 - accuracy: 0.9181 - val_loss: 0.0920 - val_accuracy: 0.9685\n",
      "Epoch 8/20\n",
      "52/52 [==============================] - 9s 168ms/step - loss: 0.3009 - accuracy: 0.9084 - val_loss: 0.0941 - val_accuracy: 0.9709\n",
      "Epoch 9/20\n",
      "52/52 [==============================] - 9s 164ms/step - loss: 0.2824 - accuracy: 0.9066 - val_loss: 0.1319 - val_accuracy: 0.9467\n",
      "Epoch 10/20\n",
      "52/52 [==============================] - 9s 173ms/step - loss: 0.2386 - accuracy: 0.9339 - val_loss: 0.0948 - val_accuracy: 0.9685\n",
      "Epoch 11/20\n",
      "52/52 [==============================] - 9s 177ms/step - loss: 0.2591 - accuracy: 0.9242 - val_loss: 0.6867 - val_accuracy: 0.8402\n",
      "Epoch 12/20\n",
      "52/52 [==============================] - 10s 198ms/step - loss: 0.2729 - accuracy: 0.9242 - val_loss: 0.1533 - val_accuracy: 0.9370\n",
      "Epoch 13/20\n",
      "52/52 [==============================] - 10s 183ms/step - loss: 0.2498 - accuracy: 0.9230 - val_loss: 0.3635 - val_accuracy: 0.8886\n",
      "Epoch 14/20\n",
      "52/52 [==============================] - 10s 198ms/step - loss: 0.2582 - accuracy: 0.9090 - val_loss: 0.1092 - val_accuracy: 0.9637\n",
      "Epoch 15/20\n",
      "52/52 [==============================] - 8s 161ms/step - loss: 0.2296 - accuracy: 0.9224 - val_loss: 0.0691 - val_accuracy: 0.9806\n",
      "Epoch 16/20\n",
      "52/52 [==============================] - 8s 163ms/step - loss: 0.2162 - accuracy: 0.9321 - val_loss: 0.5469 - val_accuracy: 0.8692\n",
      "Epoch 17/20\n",
      "52/52 [==============================] - 8s 161ms/step - loss: 0.2283 - accuracy: 0.9284 - val_loss: 0.0648 - val_accuracy: 0.9806\n",
      "Epoch 18/20\n",
      "52/52 [==============================] - 9s 165ms/step - loss: 0.2123 - accuracy: 0.9242 - val_loss: 0.0727 - val_accuracy: 0.9758\n",
      "Epoch 19/20\n",
      "52/52 [==============================] - 8s 160ms/step - loss: 0.2178 - accuracy: 0.9290 - val_loss: 0.0550 - val_accuracy: 0.9758\n",
      "Epoch 20/20\n",
      "52/52 [==============================] - 8s 161ms/step - loss: 0.2198 - accuracy: 0.9272 - val_loss: 0.0854 - val_accuracy: 0.9637\n"
     ]
    }
   ],
   "source": [
    "History = model.fit_generator(train_gen.flow(X_train_reshaped, y_train, batch_size=32), \n",
    "                             epochs=20, validation_data=(X_test_reshaped, y_test))"
   ]
  },
  {
   "cell_type": "code",
   "execution_count": 157,
   "id": "7495ce19",
   "metadata": {},
   "outputs": [],
   "source": [
    "epochs = [i for i in  range(1, 21)]"
   ]
  },
  {
   "cell_type": "code",
   "execution_count": 158,
   "id": "c38300bf",
   "metadata": {},
   "outputs": [
    {
     "data": {
      "text/plain": [
       "[1, 2, 3, 4, 5, 6, 7, 8, 9, 10, 11, 12, 13, 14, 15, 16, 17, 18, 19, 20]"
      ]
     },
     "execution_count": 158,
     "metadata": {},
     "output_type": "execute_result"
    }
   ],
   "source": [
    "epochs"
   ]
  },
  {
   "cell_type": "code",
   "execution_count": 133,
   "id": "a8840f2e",
   "metadata": {},
   "outputs": [
    {
     "data": {
      "text/plain": [
       "dict_keys(['loss', 'accuracy', 'val_loss', 'val_accuracy'])"
      ]
     },
     "execution_count": 133,
     "metadata": {},
     "output_type": "execute_result"
    }
   ],
   "source": [
    "History.history.keys()"
   ]
  },
  {
   "cell_type": "code",
   "execution_count": 136,
   "id": "791e22fa",
   "metadata": {},
   "outputs": [],
   "source": [
    "training_accuracy = History.history['accuracy']\n",
    "validation_accuracy = History.history['val_accuracy']\n",
    "\n",
    "training_loss = History.history['loss']\n",
    "validation_loss = History.history['val_loss']"
   ]
  },
  {
   "cell_type": "code",
   "execution_count": 159,
   "id": "3345dcef",
   "metadata": {},
   "outputs": [
    {
     "name": "stdout",
     "output_type": "stream",
     "text": [
      "13/13 [==============================] - 0s 32ms/step - loss: 0.0854 - accuracy: 0.9637\n"
     ]
    }
   ],
   "source": [
    "score = model.evaluate(X_test_reshaped, y_test, verbose='auto')"
   ]
  },
  {
   "cell_type": "code",
   "execution_count": 160,
   "id": "3a25e6d7",
   "metadata": {},
   "outputs": [
    {
     "data": {
      "text/plain": [
       "[0.08537979423999786, 0.9636803865432739]"
      ]
     },
     "execution_count": 160,
     "metadata": {},
     "output_type": "execute_result"
    }
   ],
   "source": [
    "score"
   ]
  },
  {
   "cell_type": "code",
   "execution_count": 161,
   "id": "98447f73",
   "metadata": {},
   "outputs": [
    {
     "name": "stdout",
     "output_type": "stream",
     "text": [
      "The final accuracy is:  96.36803865432739\n",
      "The final loss is:  0.08537979423999786\n"
     ]
    }
   ],
   "source": [
    "print(\"The final accuracy is: \", score[1]*100)\n",
    "print(\"The final loss is: \", score[0])"
   ]
  },
  {
   "cell_type": "markdown",
   "id": "cd150a35",
   "metadata": {},
   "source": [
    "### Analyzing the Model's Evaluated Performance"
   ]
  },
  {
   "cell_type": "code",
   "execution_count": 164,
   "id": "3e8afacf",
   "metadata": {},
   "outputs": [
    {
     "data": {
      "image/png": "[encoded data removed]",
      "text/plain": [
       "<Figure size 432x288 with 1 Axes>"
      ]
     },
     "metadata": {
      "needs_background": "light"
     },
     "output_type": "display_data"
    }
   ],
   "source": [
    "plt.plot(epochs, training_accuracy, 'g', label = 'train_acc')\n",
    "plt.plot(epochs, validation_accuracy, 'b', label='val_acc')\n",
    "plt.xlabel('Epochs')\n",
    "plt.ylabel('Accuracy Metric')\n",
    "plt.title('Training vs Validation Accuracy')\n",
    "plt.legend()\n",
    "plt.show()"
   ]
  },
  {
   "cell_type": "code",
   "execution_count": 165,
   "id": "ab089b51",
   "metadata": {},
   "outputs": [
    {
     "data": {
      "image/png": "[encoded data removed]",
      "text/plain": [
       "<Figure size 432x288 with 1 Axes>"
      ]
     },
     "metadata": {
      "needs_background": "light"
     },
     "output_type": "display_data"
    }
   ],
   "source": [
    "plt.plot(epochs, training_loss, 'g', label = 'train_loss')\n",
    "plt.plot(epochs, validation_loss, 'b', label='val_loss')\n",
    "plt.xlabel('Epochs')\n",
    "plt.ylabel('Loss Metric')\n",
    "plt.title('Training vs Validation Loss')\n",
    "plt.legend()\n",
    "plt.show()"
   ]
  },
  {
   "cell_type": "code",
   "execution_count": 166,
   "id": "57d589c0",
   "metadata": {},
   "outputs": [
    {
     "name": "stdout",
     "output_type": "stream",
     "text": [
      "13/13 [==============================] - 10s 36ms/step\n"
     ]
    }
   ],
   "source": [
    "predictions = model.predict(X_test_reshaped)"
   ]
  },
  {
   "cell_type": "code",
   "execution_count": 167,
   "id": "2ae35445",
   "metadata": {},
   "outputs": [
    {
     "data": {
      "text/plain": [
       "array([[1.2740564e-02, 8.0347592e-05, 3.2773800e-04, ..., 6.0994469e-04,\n",
       "        1.9817080e-06, 4.8995456e-03],\n",
       "       [1.0723685e-08, 6.1754976e-18, 2.5933968e-15, ..., 3.8926029e-10,\n",
       "        3.8547730e-22, 1.0000000e+00],\n",
       "       [3.9930347e-07, 5.7989677e-08, 3.0542567e-04, ..., 8.0896752e-06,\n",
       "        2.8174938e-04, 4.5509627e-10],\n",
       "       ...,\n",
       "       [3.2432212e-15, 1.0000000e+00, 1.3007486e-14, ..., 3.8910821e-17,\n",
       "        4.3171660e-18, 4.7478093e-20],\n",
       "       [9.1356860e-04, 1.2233512e-03, 2.5385753e-03, ..., 1.0494658e-03,\n",
       "        1.3189601e-03, 3.3620174e-05],\n",
       "       [8.4932136e-14, 1.0000000e+00, 3.1417220e-16, ..., 2.1421779e-20,\n",
       "        1.0624998e-20, 7.4686364e-21]], dtype=float32)"
      ]
     },
     "execution_count": 167,
     "metadata": {},
     "output_type": "execute_result"
    }
   ],
   "source": [
    "predictions"
   ]
  },
  {
   "cell_type": "code",
   "execution_count": 168,
   "id": "0ec006d2",
   "metadata": {},
   "outputs": [
    {
     "data": {
      "text/plain": [
       "(413, 10)"
      ]
     },
     "execution_count": 168,
     "metadata": {},
     "output_type": "execute_result"
    }
   ],
   "source": [
    "predictions.shape"
   ]
  },
  {
   "cell_type": "markdown",
   "id": "bfce0d1e",
   "metadata": {},
   "source": [
    "#### Some Diagnostic Plots..."
   ]
  },
  {
   "cell_type": "code",
   "execution_count": 169,
   "id": "673ed7b3",
   "metadata": {},
   "outputs": [
    {
     "data": {
      "text/plain": [
       "array([1.2740564e-02, 8.0347592e-05, 3.2773800e-04, 4.0914990e-02,\n",
       "       1.4785788e-07, 1.8065232e-04, 9.4024414e-01, 6.0994469e-04,\n",
       "       1.9817080e-06, 4.8995456e-03], dtype=float32)"
      ]
     },
     "execution_count": 169,
     "metadata": {},
     "output_type": "execute_result"
    }
   ],
   "source": [
    "predictions[0]"
   ]
  },
  {
   "cell_type": "code",
   "execution_count": 170,
   "id": "8250e67c",
   "metadata": {},
   "outputs": [
    {
     "data": {
      "text/plain": [
       "array([0., 0., 0., 0., 0., 0., 1., 0., 0., 0.])"
      ]
     },
     "execution_count": 170,
     "metadata": {},
     "output_type": "execute_result"
    }
   ],
   "source": [
    "y_test[0]"
   ]
  },
  {
   "cell_type": "code",
   "execution_count": 171,
   "id": "06abf650",
   "metadata": {},
   "outputs": [
    {
     "data": {
      "text/plain": [
       "array([1.07236851e-08, 6.17549760e-18, 2.59339677e-15, 3.71554228e-19,\n",
       "       1.02850177e-22, 3.57575124e-12, 1.15002488e-08, 3.89260291e-10,\n",
       "       3.85477298e-22, 1.00000000e+00], dtype=float32)"
      ]
     },
     "execution_count": 171,
     "metadata": {},
     "output_type": "execute_result"
    }
   ],
   "source": [
    "predictions[1]"
   ]
  },
  {
   "cell_type": "code",
   "execution_count": 172,
   "id": "c15ce360",
   "metadata": {},
   "outputs": [
    {
     "data": {
      "text/plain": [
       "array([0., 0., 0., 0., 0., 0., 0., 0., 0., 1.])"
      ]
     },
     "execution_count": 172,
     "metadata": {},
     "output_type": "execute_result"
    }
   ],
   "source": [
    "y_test[1]"
   ]
  },
  {
   "cell_type": "code",
   "execution_count": 173,
   "id": "6db3136f",
   "metadata": {},
   "outputs": [
    {
     "data": {
      "text/plain": [
       "[<matplotlib.lines.Line2D at 0x270b541a0d0>]"
      ]
     },
     "execution_count": 173,
     "metadata": {},
     "output_type": "execute_result"
    },
    {
     "data": {
      "image/png": "[encoded data removed]",
      "text/plain": [
       "<Figure size 432x288 with 1 Axes>"
      ]
     },
     "metadata": {
      "needs_background": "light"
     },
     "output_type": "display_data"
    }
   ],
   "source": [
    "plt.plot(predictions[0])"
   ]
  },
  {
   "cell_type": "code",
   "execution_count": 177,
   "id": "54505596",
   "metadata": {},
   "outputs": [
    {
     "data": {
      "text/plain": [
       "[<matplotlib.lines.Line2D at 0x270b577f790>]"
      ]
     },
     "execution_count": 177,
     "metadata": {},
     "output_type": "execute_result"
    },
    {
     "data": {
      "image/png": "[encoded data removed]",
      "text/plain": [
       "<Figure size 432x288 with 1 Axes>"
      ]
     },
     "metadata": {
      "needs_background": "light"
     },
     "output_type": "display_data"
    }
   ],
   "source": [
    "plt.plot(predictions[4])"
   ]
  },
  {
   "cell_type": "code",
   "execution_count": 178,
   "id": "a9f5d766",
   "metadata": {},
   "outputs": [
    {
     "data": {
      "text/plain": [
       "array([9.73002553e-01, 2.12124769e-06, 2.37244694e-06, 1.02953805e-07,\n",
       "       2.30091203e-07, 2.69846953e-02, 6.53835968e-06, 1.25299562e-06,\n",
       "       1.52522844e-07, 1.44777959e-08], dtype=float32)"
      ]
     },
     "execution_count": 178,
     "metadata": {},
     "output_type": "execute_result"
    }
   ],
   "source": [
    "predictions[4]"
   ]
  },
  {
   "cell_type": "code",
   "execution_count": 179,
   "id": "479e30c4",
   "metadata": {},
   "outputs": [
    {
     "data": {
      "text/plain": [
       "array([1., 0., 0., 0., 0., 0., 0., 0., 0., 0.])"
      ]
     },
     "execution_count": 179,
     "metadata": {},
     "output_type": "execute_result"
    }
   ],
   "source": [
    "y_test[4]"
   ]
  },
  {
   "cell_type": "code",
   "execution_count": 180,
   "id": "efc7b920",
   "metadata": {},
   "outputs": [
    {
     "data": {
      "text/plain": [
       "[<matplotlib.lines.Line2D at 0x270b50bd3d0>]"
      ]
     },
     "execution_count": 180,
     "metadata": {},
     "output_type": "execute_result"
    },
    {
     "data": {
      "image/png": "[encoded data removed]",
      "text/plain": [
       "<Figure size 432x288 with 1 Axes>"
      ]
     },
     "metadata": {
      "needs_background": "light"
     },
     "output_type": "display_data"
    }
   ],
   "source": [
    "plt.plot(predictions[100])"
   ]
  },
  {
   "cell_type": "code",
   "execution_count": 181,
   "id": "96b100ea",
   "metadata": {},
   "outputs": [
    {
     "data": {
      "text/plain": [
       "array([6.1060797e-04, 6.1783830e-05, 4.0888813e-01, 1.0609956e-04,\n",
       "       9.4344718e-03, 5.7732773e-01, 1.5156460e-04, 8.2405307e-04,\n",
       "       2.5934272e-03, 2.2306190e-06], dtype=float32)"
      ]
     },
     "execution_count": 181,
     "metadata": {},
     "output_type": "execute_result"
    }
   ],
   "source": [
    "predictions[100] # As can be seen, there's a significant flaw in the prediction here. It's supposed to be at index-2 but there is an even bigger spike at index-5"
   ]
  },
  {
   "cell_type": "code",
   "execution_count": 182,
   "id": "9ed75311",
   "metadata": {},
   "outputs": [
    {
     "data": {
      "text/plain": [
       "array([0., 0., 1., 0., 0., 0., 0., 0., 0., 0.])"
      ]
     },
     "execution_count": 182,
     "metadata": {},
     "output_type": "execute_result"
    }
   ],
   "source": [
    "y_test[100]"
   ]
  },
  {
   "cell_type": "markdown",
   "id": "cb033206",
   "metadata": {},
   "source": [
    "### Confusion Matrix"
   ]
  },
  {
   "cell_type": "code",
   "execution_count": 189,
   "id": "7632b139",
   "metadata": {},
   "outputs": [
    {
     "data": {
      "text/plain": [
       "array([[0., 0., 0., ..., 0., 0., 0.],\n",
       "       [0., 0., 0., ..., 0., 0., 1.],\n",
       "       [0., 0., 0., ..., 0., 0., 0.],\n",
       "       ...,\n",
       "       [0., 1., 0., ..., 0., 0., 0.],\n",
       "       [0., 0., 0., ..., 0., 0., 0.],\n",
       "       [0., 1., 0., ..., 0., 0., 0.]])"
      ]
     },
     "execution_count": 189,
     "metadata": {},
     "output_type": "execute_result"
    }
   ],
   "source": [
    "y_test"
   ]
  },
  {
   "cell_type": "code",
   "execution_count": 192,
   "id": "cff62fb6",
   "metadata": {},
   "outputs": [
    {
     "data": {
      "text/plain": [
       "(413, 10)"
      ]
     },
     "execution_count": 192,
     "metadata": {},
     "output_type": "execute_result"
    }
   ],
   "source": [
    "y_test.shape"
   ]
  },
  {
   "cell_type": "code",
   "execution_count": 190,
   "id": "f1bc3674",
   "metadata": {},
   "outputs": [
    {
     "data": {
      "text/plain": [
       "array([6, 9, 3, 9, 0, 5, 8, 2, 5, 9, 4, 9, 7, 1, 3, 3, 0, 5, 0, 7, 0, 8,\n",
       "       3, 6, 9, 2, 7, 3, 5, 9, 8, 5, 4, 6, 4, 6, 3, 1, 9, 2, 7, 7, 3, 1,\n",
       "       1, 2, 0, 7, 8, 9, 1, 9, 6, 2, 1, 0, 6, 8, 2, 8, 8, 7, 2, 7, 5, 9,\n",
       "       2, 3, 6, 4, 1, 1, 5, 7, 4, 9, 9, 4, 3, 8, 8, 9, 2, 0, 9, 0, 0, 4,\n",
       "       1, 5, 5, 4, 7, 4, 7, 4, 2, 2, 8, 7, 2, 0, 9, 0, 2, 1, 7, 8, 8, 7,\n",
       "       2, 8, 3, 3, 2, 2, 6, 1, 5, 5, 5, 0, 1, 5, 8, 2, 6, 5, 1, 0, 3, 1,\n",
       "       9, 9, 8, 3, 8, 9, 2, 2, 2, 6, 2, 6, 6, 1, 6, 2, 5, 4, 9, 2, 1, 2,\n",
       "       6, 2, 6, 6, 1, 1, 7, 5, 9, 8, 6, 2, 4, 7, 6, 9, 8, 7, 2, 9, 1, 6,\n",
       "       7, 6, 0, 6, 1, 7, 4, 8, 4, 3, 2, 2, 4, 2, 8, 6, 8, 3, 2, 0, 8, 8,\n",
       "       8, 5, 4, 7, 0, 8, 2, 4, 2, 5, 5, 8, 9, 0, 2, 8, 5, 3, 1, 3, 5, 0,\n",
       "       6, 4, 6, 1, 7, 5, 4, 1, 9, 5, 8, 4, 7, 6, 3, 1, 5, 4, 6, 4, 9, 6,\n",
       "       1, 0, 9, 0, 1, 2, 3, 9, 2, 4, 2, 0, 0, 8, 2, 5, 9, 2, 4, 7, 9, 8,\n",
       "       3, 7, 3, 7, 7, 1, 1, 1, 8, 9, 5, 7, 7, 3, 1, 7, 5, 3, 6, 9, 1, 9,\n",
       "       2, 9, 8, 3, 0, 7, 0, 8, 0, 6, 5, 2, 1, 0, 0, 3, 3, 3, 8, 3, 2, 9,\n",
       "       6, 9, 6, 6, 1, 9, 9, 4, 6, 3, 0, 5, 5, 8, 0, 0, 1, 2, 8, 9, 3, 1,\n",
       "       0, 4, 1, 6, 2, 0, 9, 7, 9, 4, 8, 3, 6, 0, 5, 9, 2, 5, 5, 7, 4, 7,\n",
       "       7, 8, 8, 1, 0, 7, 0, 1, 1, 9, 1, 9, 9, 7, 5, 4, 6, 3, 5, 3, 1, 1,\n",
       "       1, 5, 4, 0, 6, 4, 7, 8, 1, 4, 6, 3, 8, 9, 9, 7, 6, 0, 2, 8, 6, 8,\n",
       "       0, 8, 1, 2, 2, 0, 5, 2, 1, 2, 0, 5, 3, 8, 1, 6, 1], dtype=int64)"
      ]
     },
     "execution_count": 190,
     "metadata": {},
     "output_type": "execute_result"
    }
   ],
   "source": [
    "y_True = np.argmax(y_test, axis=1)\n",
    "y_True"
   ]
  },
  {
   "cell_type": "code",
   "execution_count": 191,
   "id": "2382f659",
   "metadata": {},
   "outputs": [
    {
     "data": {
      "text/plain": [
       "(413,)"
      ]
     },
     "execution_count": 191,
     "metadata": {},
     "output_type": "execute_result"
    }
   ],
   "source": [
    "y_True.shape"
   ]
  },
  {
   "cell_type": "code",
   "execution_count": 188,
   "id": "a458d04c",
   "metadata": {},
   "outputs": [],
   "source": [
    "from sklearn.metrics import confusion_matrix\n",
    "Confusion_Matrix = confusion_matrix(y_true= y_True, y_pred= np.argmax(predictions, axis=1))"
   ]
  },
  {
   "cell_type": "code",
   "execution_count": 193,
   "id": "eabe05dc",
   "metadata": {},
   "outputs": [
    {
     "data": {
      "text/plain": [
       "array([[40,  0,  0,  0,  0,  0,  0,  0,  0,  0],\n",
       "       [ 0, 48,  0,  0,  0,  0,  0,  0,  0,  0],\n",
       "       [ 0,  0, 49,  0,  0,  1,  0,  0,  0,  0],\n",
       "       [ 0,  0,  1, 31,  0,  0,  1,  0,  2,  0],\n",
       "       [ 0,  1,  0,  0, 31,  0,  0,  0,  0,  0],\n",
       "       [ 0,  1,  1,  0,  1, 35,  0,  0,  0,  0],\n",
       "       [ 0,  0,  0,  2,  0,  0, 38,  0,  0,  1],\n",
       "       [ 0,  0,  0,  0,  0,  0,  0, 38,  0,  0],\n",
       "       [ 0,  0,  0,  0,  3,  0,  0,  0, 42,  0],\n",
       "       [ 0,  0,  0,  0,  0,  0,  0,  0,  0, 46]], dtype=int64)"
      ]
     },
     "execution_count": 193,
     "metadata": {},
     "output_type": "execute_result"
    }
   ],
   "source": [
    "Confusion_Matrix"
   ]
  },
  {
   "cell_type": "code",
   "execution_count": 195,
   "id": "092f8b3d",
   "metadata": {},
   "outputs": [],
   "source": [
    "? sns.heatmap"
   ]
  },
  {
   "cell_type": "code",
   "execution_count": 197,
   "id": "62be446f",
   "metadata": {},
   "outputs": [
    {
     "data": {
      "image/png": "[encoded data removed]",
      "text/plain": [
       "<Figure size 720x720 with 2 Axes>"
      ]
     },
     "metadata": {
      "needs_background": "light"
     },
     "output_type": "display_data"
    }
   ],
   "source": [
    "fig, ax = plt.subplots(figsize=(10, 10))\n",
    "sns.heatmap(Confusion_Matrix, annot=True, cmap='Blues', linecolor='gray', fmt='.1f', ax = ax, linewidths=0.01)\n",
    "plt.xlabel('Predicted Label')\n",
    "plt.ylabel('True Label')\n",
    "plt.title('Confusion Matrix')\n",
    "# plt.legend()\n",
    "plt.show()"
   ]
  },
  {
   "cell_type": "markdown",
   "id": "24a4348d",
   "metadata": {},
   "source": [
    "### Classification Report"
   ]
  },
  {
   "cell_type": "code",
   "execution_count": 198,
   "id": "266fbde2",
   "metadata": {},
   "outputs": [],
   "source": [
    "from sklearn.metrics import classification_report"
   ]
  },
  {
   "cell_type": "code",
   "execution_count": 199,
   "id": "53f1c365",
   "metadata": {},
   "outputs": [],
   "source": [
    "Classification_Report = classification_report(y_true= y_True, y_pred= np.argmax(y_test, axis=1))"
   ]
  },
  {
   "cell_type": "code",
   "execution_count": 200,
   "id": "0c2f8a80",
   "metadata": {},
   "outputs": [
    {
     "data": {
      "text/plain": [
       "'              precision    recall  f1-score   support\\n\\n           0       1.00      1.00      1.00        40\\n           1       1.00      1.00      1.00        48\\n           2       1.00      1.00      1.00        50\\n           3       1.00      1.00      1.00        35\\n           4       1.00      1.00      1.00        32\\n           5       1.00      1.00      1.00        38\\n           6       1.00      1.00      1.00        41\\n           7       1.00      1.00      1.00        38\\n           8       1.00      1.00      1.00        45\\n           9       1.00      1.00      1.00        46\\n\\n    accuracy                           1.00       413\\n   macro avg       1.00      1.00      1.00       413\\nweighted avg       1.00      1.00      1.00       413\\n'"
      ]
     },
     "execution_count": 200,
     "metadata": {},
     "output_type": "execute_result"
    }
   ],
   "source": [
    "Classification_Report"
   ]
  },
  {
   "cell_type": "code",
   "execution_count": null,
   "id": "25ebbcf2",
   "metadata": {},
   "outputs": [],
   "source": []
  }
 ],
 "metadata": {
  "kernelspec": {
   "display_name": "Python 3 (ipykernel)",
   "language": "python",
   "name": "python3"
  },
  "language_info": {
   "codemirror_mode": {
    "name": "ipython",
    "version": 3
   },
   "file_extension": ".py",
   "mimetype": "text/x-python",
   "name": "python",
   "nbconvert_exporter": "python",
   "pygments_lexer": "ipython3",
   "version": "3.9.12"
  }
 },
 "nbformat": 4,
 "nbformat_minor": 5
}
